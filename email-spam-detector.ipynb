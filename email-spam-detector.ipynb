{
 "cells": [
  {
   "cell_type": "code",
   "execution_count": 1,
   "id": "7a7fd9f8",
   "metadata": {
    "execution": {
     "iopub.execute_input": "2021-07-26T15:04:02.687773Z",
     "iopub.status.busy": "2021-07-26T15:04:02.686958Z",
     "iopub.status.idle": "2021-07-26T15:04:02.690404Z",
     "shell.execute_reply": "2021-07-26T15:04:02.689782Z",
     "shell.execute_reply.started": "2021-07-26T14:58:00.285562Z"
    },
    "papermill": {
     "duration": 0.02999,
     "end_time": "2021-07-26T15:04:02.690569",
     "exception": false,
     "start_time": "2021-07-26T15:04:02.660579",
     "status": "completed"
    },
    "tags": []
   },
   "outputs": [],
   "source": [
    "import pandas as pd"
   ]
  },
  {
   "cell_type": "code",
   "execution_count": 2,
   "id": "5b2770ed",
   "metadata": {
    "execution": {
     "iopub.execute_input": "2021-07-26T15:04:02.721883Z",
     "iopub.status.busy": "2021-07-26T15:04:02.721197Z",
     "iopub.status.idle": "2021-07-26T15:04:02.857903Z",
     "shell.execute_reply": "2021-07-26T15:04:02.857335Z",
     "shell.execute_reply.started": "2021-07-26T14:58:00.344643Z"
    },
    "papermill": {
     "duration": 0.153521,
     "end_time": "2021-07-26T15:04:02.858071",
     "exception": false,
     "start_time": "2021-07-26T15:04:02.704550",
     "status": "completed"
    },
    "tags": []
   },
   "outputs": [
    {
     "data": {
      "text/html": [
       "<div>\n",
       "<style scoped>\n",
       "    .dataframe tbody tr th:only-of-type {\n",
       "        vertical-align: middle;\n",
       "    }\n",
       "\n",
       "    .dataframe tbody tr th {\n",
       "        vertical-align: top;\n",
       "    }\n",
       "\n",
       "    .dataframe thead th {\n",
       "        text-align: right;\n",
       "    }\n",
       "</style>\n",
       "<table border=\"1\" class=\"dataframe\">\n",
       "  <thead>\n",
       "    <tr style=\"text-align: right;\">\n",
       "      <th></th>\n",
       "      <th>title</th>\n",
       "      <th>Message</th>\n",
       "    </tr>\n",
       "  </thead>\n",
       "  <tbody>\n",
       "    <tr>\n",
       "      <th>0</th>\n",
       "      <td>ham</td>\n",
       "      <td>Go until jurong point, crazy.. Available only ...</td>\n",
       "    </tr>\n",
       "    <tr>\n",
       "      <th>1</th>\n",
       "      <td>ham</td>\n",
       "      <td>Ok lar... Joking wif u oni...</td>\n",
       "    </tr>\n",
       "    <tr>\n",
       "      <th>2</th>\n",
       "      <td>spam</td>\n",
       "      <td>Free entry in 2 a wkly comp to win FA Cup fina...</td>\n",
       "    </tr>\n",
       "    <tr>\n",
       "      <th>3</th>\n",
       "      <td>ham</td>\n",
       "      <td>U dun say so early hor... U c already then say...</td>\n",
       "    </tr>\n",
       "    <tr>\n",
       "      <th>4</th>\n",
       "      <td>ham</td>\n",
       "      <td>Nah I don't think he goes to usf, he lives aro...</td>\n",
       "    </tr>\n",
       "  </tbody>\n",
       "</table>\n",
       "</div>"
      ],
      "text/plain": [
       "  title                                            Message\n",
       "0   ham  Go until jurong point, crazy.. Available only ...\n",
       "1   ham                      Ok lar... Joking wif u oni...\n",
       "2  spam  Free entry in 2 a wkly comp to win FA Cup fina...\n",
       "3   ham  U dun say so early hor... U c already then say...\n",
       "4   ham  Nah I don't think he goes to usf, he lives aro..."
      ]
     },
     "execution_count": 2,
     "metadata": {},
     "output_type": "execute_result"
    }
   ],
   "source": [
    "df = pd.read_csv(\"../input/email-spam-detection/email spams.csv\")\n",
    "df.head()"
   ]
  },
  {
   "cell_type": "code",
   "execution_count": 3,
   "id": "cb57181a",
   "metadata": {
    "execution": {
     "iopub.execute_input": "2021-07-26T15:04:02.897823Z",
     "iopub.status.busy": "2021-07-26T15:04:02.896852Z",
     "iopub.status.idle": "2021-07-26T15:04:02.943059Z",
     "shell.execute_reply": "2021-07-26T15:04:02.942492Z",
     "shell.execute_reply.started": "2021-07-26T14:58:00.361152Z"
    },
    "papermill": {
     "duration": 0.07171,
     "end_time": "2021-07-26T15:04:02.943199",
     "exception": false,
     "start_time": "2021-07-26T15:04:02.871489",
     "status": "completed"
    },
    "tags": []
   },
   "outputs": [
    {
     "data": {
      "text/html": [
       "<div>\n",
       "<style scoped>\n",
       "    .dataframe tbody tr th:only-of-type {\n",
       "        vertical-align: middle;\n",
       "    }\n",
       "\n",
       "    .dataframe tbody tr th {\n",
       "        vertical-align: top;\n",
       "    }\n",
       "\n",
       "    .dataframe thead tr th {\n",
       "        text-align: left;\n",
       "    }\n",
       "\n",
       "    .dataframe thead tr:last-of-type th {\n",
       "        text-align: right;\n",
       "    }\n",
       "</style>\n",
       "<table border=\"1\" class=\"dataframe\">\n",
       "  <thead>\n",
       "    <tr>\n",
       "      <th></th>\n",
       "      <th colspan=\"4\" halign=\"left\">Message</th>\n",
       "    </tr>\n",
       "    <tr>\n",
       "      <th></th>\n",
       "      <th>count</th>\n",
       "      <th>unique</th>\n",
       "      <th>top</th>\n",
       "      <th>freq</th>\n",
       "    </tr>\n",
       "    <tr>\n",
       "      <th>title</th>\n",
       "      <th></th>\n",
       "      <th></th>\n",
       "      <th></th>\n",
       "      <th></th>\n",
       "    </tr>\n",
       "  </thead>\n",
       "  <tbody>\n",
       "    <tr>\n",
       "      <th>ham</th>\n",
       "      <td>1143</td>\n",
       "      <td>1110</td>\n",
       "      <td>Sorry, I'll call later</td>\n",
       "      <td>8</td>\n",
       "    </tr>\n",
       "    <tr>\n",
       "      <th>spam</th>\n",
       "      <td>196</td>\n",
       "      <td>187</td>\n",
       "      <td>Please call our customer service representativ...</td>\n",
       "      <td>2</td>\n",
       "    </tr>\n",
       "  </tbody>\n",
       "</table>\n",
       "</div>"
      ],
      "text/plain": [
       "      Message                                                               \n",
       "        count unique                                                top freq\n",
       "title                                                                       \n",
       "ham      1143   1110                             Sorry, I'll call later    8\n",
       "spam      196    187  Please call our customer service representativ...    2"
      ]
     },
     "execution_count": 3,
     "metadata": {},
     "output_type": "execute_result"
    }
   ],
   "source": [
    "df.groupby('title').describe()"
   ]
  },
  {
   "cell_type": "code",
   "execution_count": 4,
   "id": "74b0f273",
   "metadata": {
    "execution": {
     "iopub.execute_input": "2021-07-26T15:04:02.972123Z",
     "iopub.status.busy": "2021-07-26T15:04:02.971430Z",
     "iopub.status.idle": "2021-07-26T15:04:02.986610Z",
     "shell.execute_reply": "2021-07-26T15:04:02.985961Z",
     "shell.execute_reply.started": "2021-07-26T14:58:00.385328Z"
    },
    "papermill": {
     "duration": 0.030586,
     "end_time": "2021-07-26T15:04:02.986809",
     "exception": false,
     "start_time": "2021-07-26T15:04:02.956223",
     "status": "completed"
    },
    "tags": []
   },
   "outputs": [
    {
     "data": {
      "text/html": [
       "<div>\n",
       "<style scoped>\n",
       "    .dataframe tbody tr th:only-of-type {\n",
       "        vertical-align: middle;\n",
       "    }\n",
       "\n",
       "    .dataframe tbody tr th {\n",
       "        vertical-align: top;\n",
       "    }\n",
       "\n",
       "    .dataframe thead th {\n",
       "        text-align: right;\n",
       "    }\n",
       "</style>\n",
       "<table border=\"1\" class=\"dataframe\">\n",
       "  <thead>\n",
       "    <tr style=\"text-align: right;\">\n",
       "      <th></th>\n",
       "      <th>title</th>\n",
       "      <th>Message</th>\n",
       "      <th>spam</th>\n",
       "    </tr>\n",
       "  </thead>\n",
       "  <tbody>\n",
       "    <tr>\n",
       "      <th>0</th>\n",
       "      <td>ham</td>\n",
       "      <td>Go until jurong point, crazy.. Available only ...</td>\n",
       "      <td>0</td>\n",
       "    </tr>\n",
       "    <tr>\n",
       "      <th>1</th>\n",
       "      <td>ham</td>\n",
       "      <td>Ok lar... Joking wif u oni...</td>\n",
       "      <td>0</td>\n",
       "    </tr>\n",
       "    <tr>\n",
       "      <th>2</th>\n",
       "      <td>spam</td>\n",
       "      <td>Free entry in 2 a wkly comp to win FA Cup fina...</td>\n",
       "      <td>1</td>\n",
       "    </tr>\n",
       "    <tr>\n",
       "      <th>3</th>\n",
       "      <td>ham</td>\n",
       "      <td>U dun say so early hor... U c already then say...</td>\n",
       "      <td>0</td>\n",
       "    </tr>\n",
       "    <tr>\n",
       "      <th>4</th>\n",
       "      <td>ham</td>\n",
       "      <td>Nah I don't think he goes to usf, he lives aro...</td>\n",
       "      <td>0</td>\n",
       "    </tr>\n",
       "  </tbody>\n",
       "</table>\n",
       "</div>"
      ],
      "text/plain": [
       "  title                                            Message  spam\n",
       "0   ham  Go until jurong point, crazy.. Available only ...     0\n",
       "1   ham                      Ok lar... Joking wif u oni...     0\n",
       "2  spam  Free entry in 2 a wkly comp to win FA Cup fina...     1\n",
       "3   ham  U dun say so early hor... U c already then say...     0\n",
       "4   ham  Nah I don't think he goes to usf, he lives aro...     0"
      ]
     },
     "execution_count": 4,
     "metadata": {},
     "output_type": "execute_result"
    }
   ],
   "source": [
    "df['spam']=df['title'].apply(lambda x: 1 if x=='spam' else 0)\n",
    "df.head()"
   ]
  },
  {
   "cell_type": "code",
   "execution_count": 5,
   "id": "358726a4",
   "metadata": {
    "execution": {
     "iopub.execute_input": "2021-07-26T15:04:03.019550Z",
     "iopub.status.busy": "2021-07-26T15:04:03.018744Z",
     "iopub.status.idle": "2021-07-26T15:04:04.023627Z",
     "shell.execute_reply": "2021-07-26T15:04:04.023033Z",
     "shell.execute_reply.started": "2021-07-26T14:58:00.396408Z"
    },
    "papermill": {
     "duration": 1.023298,
     "end_time": "2021-07-26T15:04:04.023781",
     "exception": false,
     "start_time": "2021-07-26T15:04:03.000483",
     "status": "completed"
    },
    "tags": []
   },
   "outputs": [],
   "source": [
    "from sklearn.model_selection import train_test_split\n",
    "X_train, X_test, y_train, y_test = train_test_split(df.Message,df.spam)"
   ]
  },
  {
   "cell_type": "code",
   "execution_count": 6,
   "id": "79c3866d",
   "metadata": {
    "execution": {
     "iopub.execute_input": "2021-07-26T15:04:04.056318Z",
     "iopub.status.busy": "2021-07-26T15:04:04.055526Z",
     "iopub.status.idle": "2021-07-26T15:04:04.122466Z",
     "shell.execute_reply": "2021-07-26T15:04:04.121777Z",
     "shell.execute_reply.started": "2021-07-26T14:58:00.408573Z"
    },
    "papermill": {
     "duration": 0.08522,
     "end_time": "2021-07-26T15:04:04.122613",
     "exception": false,
     "start_time": "2021-07-26T15:04:04.037393",
     "status": "completed"
    },
    "tags": []
   },
   "outputs": [
    {
     "data": {
      "text/plain": [
       "array([[0, 0, 0, ..., 0, 0, 0],\n",
       "       [0, 0, 0, ..., 0, 0, 0]])"
      ]
     },
     "execution_count": 6,
     "metadata": {},
     "output_type": "execute_result"
    }
   ],
   "source": [
    "from sklearn.feature_extraction.text import CountVectorizer\n",
    "v = CountVectorizer()\n",
    "X_train_count = v.fit_transform(X_train.values)\n",
    "X_train_count.toarray()[:2]"
   ]
  },
  {
   "cell_type": "code",
   "execution_count": 7,
   "id": "13a184ee",
   "metadata": {
    "execution": {
     "iopub.execute_input": "2021-07-26T15:04:04.155590Z",
     "iopub.status.busy": "2021-07-26T15:04:04.154580Z",
     "iopub.status.idle": "2021-07-26T15:04:04.166331Z",
     "shell.execute_reply": "2021-07-26T15:04:04.165634Z",
     "shell.execute_reply.started": "2021-07-26T14:58:00.452810Z"
    },
    "papermill": {
     "duration": 0.030105,
     "end_time": "2021-07-26T15:04:04.166497",
     "exception": false,
     "start_time": "2021-07-26T15:04:04.136392",
     "status": "completed"
    },
    "tags": []
   },
   "outputs": [
    {
     "data": {
      "text/plain": [
       "MultinomialNB()"
      ]
     },
     "execution_count": 7,
     "metadata": {},
     "output_type": "execute_result"
    }
   ],
   "source": [
    "from sklearn.naive_bayes import MultinomialNB\n",
    "model = MultinomialNB()\n",
    "model.fit(X_train_count,y_train)"
   ]
  },
  {
   "cell_type": "code",
   "execution_count": 8,
   "id": "7fb0a0b3",
   "metadata": {
    "execution": {
     "iopub.execute_input": "2021-07-26T15:04:04.202283Z",
     "iopub.status.busy": "2021-07-26T15:04:04.201628Z",
     "iopub.status.idle": "2021-07-26T15:04:04.205523Z",
     "shell.execute_reply": "2021-07-26T15:04:04.205018Z",
     "shell.execute_reply.started": "2021-07-26T14:59:01.281764Z"
    },
    "papermill": {
     "duration": 0.024717,
     "end_time": "2021-07-26T15:04:04.205652",
     "exception": false,
     "start_time": "2021-07-26T15:04:04.180935",
     "status": "completed"
    },
    "tags": []
   },
   "outputs": [
    {
     "data": {
      "text/plain": [
       "array([0, 1])"
      ]
     },
     "execution_count": 8,
     "metadata": {},
     "output_type": "execute_result"
    }
   ],
   "source": [
    "emails = [\n",
    "    'Hey my name is siri',\n",
    "    'Upto 20% discount on parking'\n",
    "]\n",
    "emails_count = v.transform(emails)\n",
    "model.predict(emails_count)"
   ]
  },
  {
   "cell_type": "code",
   "execution_count": 9,
   "id": "caff9b38",
   "metadata": {
    "execution": {
     "iopub.execute_input": "2021-07-26T15:04:04.246597Z",
     "iopub.status.busy": "2021-07-26T15:04:04.245886Z",
     "iopub.status.idle": "2021-07-26T15:04:04.251217Z",
     "shell.execute_reply": "2021-07-26T15:04:04.251784Z",
     "shell.execute_reply.started": "2021-07-26T14:58:00.473672Z"
    },
    "papermill": {
     "duration": 0.03187,
     "end_time": "2021-07-26T15:04:04.251985",
     "exception": false,
     "start_time": "2021-07-26T15:04:04.220115",
     "status": "completed"
    },
    "tags": []
   },
   "outputs": [
    {
     "data": {
      "text/plain": [
       "0.9552238805970149"
      ]
     },
     "execution_count": 9,
     "metadata": {},
     "output_type": "execute_result"
    }
   ],
   "source": [
    "X_test_count = v.transform(X_test)\n",
    "model.score(X_test_count, y_test)"
   ]
  },
  {
   "cell_type": "markdown",
   "id": "3c52da06",
   "metadata": {
    "papermill": {
     "duration": 0.014584,
     "end_time": "2021-07-26T15:04:04.282131",
     "exception": false,
     "start_time": "2021-07-26T15:04:04.267547",
     "status": "completed"
    },
    "tags": []
   },
   "source": [
    "**Sklearn Pipeline**"
   ]
  },
  {
   "cell_type": "code",
   "execution_count": 10,
   "id": "f9723bf0",
   "metadata": {
    "execution": {
     "iopub.execute_input": "2021-07-26T15:04:04.317917Z",
     "iopub.status.busy": "2021-07-26T15:04:04.317190Z",
     "iopub.status.idle": "2021-07-26T15:04:04.321522Z",
     "shell.execute_reply": "2021-07-26T15:04:04.322004Z",
     "shell.execute_reply.started": "2021-07-26T14:58:00.491068Z"
    },
    "papermill": {
     "duration": 0.024866,
     "end_time": "2021-07-26T15:04:04.322183",
     "exception": false,
     "start_time": "2021-07-26T15:04:04.297317",
     "status": "completed"
    },
    "tags": []
   },
   "outputs": [],
   "source": [
    "from sklearn.pipeline import Pipeline\n",
    "clf = Pipeline([\n",
    "    ('vectorizer', CountVectorizer()),\n",
    "    ('nb', MultinomialNB())\n",
    "])"
   ]
  },
  {
   "cell_type": "code",
   "execution_count": 11,
   "id": "14bcc13e",
   "metadata": {
    "execution": {
     "iopub.execute_input": "2021-07-26T15:04:04.355002Z",
     "iopub.status.busy": "2021-07-26T15:04:04.354293Z",
     "iopub.status.idle": "2021-07-26T15:04:04.393216Z",
     "shell.execute_reply": "2021-07-26T15:04:04.392627Z",
     "shell.execute_reply.started": "2021-07-26T14:58:00.500240Z"
    },
    "papermill": {
     "duration": 0.056128,
     "end_time": "2021-07-26T15:04:04.393356",
     "exception": false,
     "start_time": "2021-07-26T15:04:04.337228",
     "status": "completed"
    },
    "tags": []
   },
   "outputs": [
    {
     "data": {
      "text/plain": [
       "Pipeline(steps=[('vectorizer', CountVectorizer()), ('nb', MultinomialNB())])"
      ]
     },
     "execution_count": 11,
     "metadata": {},
     "output_type": "execute_result"
    }
   ],
   "source": [
    "clf.fit(X_train, y_train)"
   ]
  },
  {
   "cell_type": "code",
   "execution_count": 12,
   "id": "3544b959",
   "metadata": {
    "execution": {
     "iopub.execute_input": "2021-07-26T15:04:04.436043Z",
     "iopub.status.busy": "2021-07-26T15:04:04.435341Z",
     "iopub.status.idle": "2021-07-26T15:04:04.439850Z",
     "shell.execute_reply": "2021-07-26T15:04:04.440372Z",
     "shell.execute_reply.started": "2021-07-26T14:58:00.532695Z"
    },
    "papermill": {
     "duration": 0.031927,
     "end_time": "2021-07-26T15:04:04.440532",
     "exception": false,
     "start_time": "2021-07-26T15:04:04.408605",
     "status": "completed"
    },
    "tags": []
   },
   "outputs": [
    {
     "data": {
      "text/plain": [
       "0.9552238805970149"
      ]
     },
     "execution_count": 12,
     "metadata": {},
     "output_type": "execute_result"
    }
   ],
   "source": [
    "clf.score(X_test,y_test)"
   ]
  },
  {
   "cell_type": "code",
   "execution_count": 13,
   "id": "d74c5c5f",
   "metadata": {
    "execution": {
     "iopub.execute_input": "2021-07-26T15:04:04.474401Z",
     "iopub.status.busy": "2021-07-26T15:04:04.473773Z",
     "iopub.status.idle": "2021-07-26T15:04:04.480584Z",
     "shell.execute_reply": "2021-07-26T15:04:04.480059Z",
     "shell.execute_reply.started": "2021-07-26T14:58:00.544168Z"
    },
    "papermill": {
     "duration": 0.024342,
     "end_time": "2021-07-26T15:04:04.480725",
     "exception": false,
     "start_time": "2021-07-26T15:04:04.456383",
     "status": "completed"
    },
    "tags": []
   },
   "outputs": [
    {
     "data": {
      "text/plain": [
       "array([0, 1])"
      ]
     },
     "execution_count": 13,
     "metadata": {},
     "output_type": "execute_result"
    }
   ],
   "source": [
    "clf.predict(emails)"
   ]
  }
 ],
 "metadata": {
  "kernelspec": {
   "display_name": "Python 3",
   "language": "python",
   "name": "python3"
  },
  "language_info": {
   "codemirror_mode": {
    "name": "ipython",
    "version": 3
   },
   "file_extension": ".py",
   "mimetype": "text/x-python",
   "name": "python",
   "nbconvert_exporter": "python",
   "pygments_lexer": "ipython3",
   "version": "3.7.10"
  },
  "papermill": {
   "default_parameters": {},
   "duration": 10.717419,
   "end_time": "2021-07-26T15:04:05.206285",
   "environment_variables": {},
   "exception": null,
   "input_path": "__notebook__.ipynb",
   "output_path": "__notebook__.ipynb",
   "parameters": {},
   "start_time": "2021-07-26T15:03:54.488866",
   "version": "2.3.3"
  }
 },
 "nbformat": 4,
 "nbformat_minor": 5
}
